{
 "cells": [
  {
   "cell_type": "markdown",
   "metadata": {},
   "source": [
    "# Домашнее задание к лекции \"Регулярные выражения\"\n",
    "\n",
    "Внимание! При реализации всех заданий необходимо использовать именно функционал регулярных выражений для обработки текста."
   ]
  },
  {
   "cell_type": "markdown",
   "metadata": {},
   "source": [
    "## Задание 1\n",
    "\n",
    "Напишите функцию, которая принимает на вход строку и проверяет является ли она валидным транспортным номером (1 буква, 3 цифры, 2 буквы, 2-3 цифры). Обратите внимание, что не все буквы кириллического алфавита используются в транспортных номерах.\n",
    "\n",
    "Если номер валиден, то функция должна возвращать отдельно номер и регион.\n",
    "\n",
    "Примеры работы программы:  \n",
    "\n",
    "1. `car_id = 'АВ222С96'`\n",
    "\n",
    "Результат: \n",
    "`Номер АВ222С валиден. Регион: 96`\n",
    "\n",
    "2. `car_id = 'АБ22ВВ193'`\n",
    "\n",
    "Результат: \n",
    "`Номер не валиден`"
   ]
  },
  {
   "cell_type": "code",
   "execution_count": 2,
   "metadata": {},
   "outputs": [],
   "source": [
    "import re"
   ]
  },
  {
   "cell_type": "code",
   "execution_count": 2,
   "metadata": {},
   "outputs": [
    {
     "name": "stdout",
     "output_type": "stream",
     "text": [
      "Номер А222СУ валиден. Регион:96\n",
      "Номер невалиден\n",
      "Номер невалиден\n",
      "Номер невалиден\n"
     ]
    }
   ],
   "source": [
    "\n",
    "def valid(id_):\n",
    "    valid_pattern = r'^[АВЕКМНОРСТXУ]\\d{3}[АВЕКМНОРСТXУ]{2}\\d{2,3}'\n",
    "    if re.findall(valid_pattern, id_):\n",
    "        return id_\n",
    "    \n",
    "id_ = ['А222СУ96', 'АБ22ВВ193', 'АБ22ВВ1', 'АВ222С96']\n",
    "for namber_ in id_:\n",
    "    nam = re.findall(r'^[АВЕКМНОРСТXУ]\\d{3}[АВЕКМНОРСТXУ]{2}', namber_)\n",
    "    reg = re.findall(r'\\d{2}$', namber_)\n",
    "    if (nam and reg):\n",
    "        print(f'Номер {nam[0]} валиден. Регион:{reg[0]}')\n",
    "    else:\n",
    "        print(f'Номер невалиден')\n",
    "    \n"
   ]
  },
  {
   "cell_type": "markdown",
   "metadata": {},
   "source": [
    "## Задание 2\n",
    "\n",
    "Напишите функцию, которая будет удалять все последовательные повторы слов из заданной строки при помощи регулярных выражений.\n",
    "\n",
    "Пример работы программы:  \n",
    "\n",
    "`some_string = 'Напишите функцию функцию, которая будет будет будет будет удалять все все все все последовательные повторы слов из из из из заданной строки строки при помощи регулярных выражений'`\n",
    "\n",
    "Результат: \n",
    "`Напишите функцию, которая будет удалять все последовательные повторы слов из заданной строки при помощи регулярных выражений.`"
   ]
  },
  {
   "cell_type": "code",
   "execution_count": 3,
   "metadata": {},
   "outputs": [],
   "source": [
    "some_string = 'Напишите функцию функцию, которая будет будет будет будет удалять все все все все \\\n",
    "последовательные повторы слов из из из из заданной строки строки при помощи регулярных выражений'"
   ]
  },
  {
   "cell_type": "code",
   "execution_count": 4,
   "metadata": {},
   "outputs": [],
   "source": [
    "#re.sub(r'\\b(\\w+)(?:\\s+\\1\\b)+', r'\\1', some_string)"
   ]
  },
  {
   "cell_type": "code",
   "execution_count": 5,
   "metadata": {},
   "outputs": [
    {
     "name": "stdout",
     "output_type": "stream",
     "text": [
      "Напишите функцию, которая будет удалять все последовательные повторы слов из заданной строки при помощи регулярных выражений\n"
     ]
    }
   ],
   "source": [
    "def edit_text(word):\n",
    "    return re.sub(r'\\b(\\w+)(?:\\s+\\1\\b)+', r'\\1', word)\n",
    "print(edit_text(some_string))"
   ]
  },
  {
   "cell_type": "markdown",
   "metadata": {},
   "source": [
    "## Задание 3\n",
    "\n",
    "Напишите функцию, которая будет возвращать акроним по переданной в нее строке со словами.\n",
    "\n",
    "Примеры работы программы:  \n",
    "\n",
    "1. `some_words = 'Информационные технологии'`\n",
    "\n",
    "Результат: \n",
    "`ИТ`\n",
    "\n",
    "2. `some_words = 'Near Field Communication'`\n",
    "\n",
    "Результат: \n",
    "`NFC`"
   ]
  },
  {
   "cell_type": "code",
   "execution_count": 13,
   "metadata": {},
   "outputs": [
    {
     "name": "stdout",
     "output_type": "stream",
     "text": [
      "ИТ\n"
     ]
    }
   ],
   "source": [
    "\n",
    "def akronim_(some_w):\n",
    "    akron = re.findall(r'(\\b\\w)', some_w.upper())\n",
    "    #return akron\n",
    "    print(f'{akron[0]}{akron[1]}')\n",
    "    #print(f'{akron[0]}{akron[1]}{akron[2]}')\n",
    "akronim_('Информационные технологии')\n",
    "#akronim_('Near Field Communication')\n"
   ]
  },
  {
   "cell_type": "markdown",
   "metadata": {},
   "source": [
    "## Задание 4\n",
    "\n",
    "Напишите функцию, которая будет принимать на вход список email-адресов и выводить их распределение по доменным зонам.\n",
    "\n",
    "Пример работы программы:  \n",
    "\n",
    "`emails = ['test@gmail.com, xyz@test.in, test@ya.ru, xyz@mail.ru, xyz@ya.ru', xyz@gmail.com]`\n",
    "\n",
    "Результат: \n",
    "```\n",
    "gmail.com: 2\n",
    "test.in: 1 \n",
    "ya.ru: 2 \n",
    "mail.ru: 1\n",
    "```"
   ]
  },
  {
   "cell_type": "markdown",
   "metadata": {},
   "source": [
    "emails = ['test@gmail.com, xyz@test.in, test@ya.ru, xyz@mail.ru, xyz@ya.ru, xyz@gmail.com']\n",
    "\n",
    "gmail_pattern = r'\\w+@gmail.com'\n",
    "test_pattern = r'\\w+@test.in'\n",
    "ya_pattern = r'\\w+@ya.ru'\n",
    "mail_pattern = r'\\w+@mail.ru'\n",
    "\n",
    "def domain_distr(emails):\n",
    "        for mail_ in emails:\n",
    "            if re.findall(ya_pattern, mail_):\n",
    "                return \n",
    "                #print(f'gmail.com: {len(re.findall(gmail_pattern, mail_))}')\n",
    "            if re.findall(test_pattern, mail_):\n",
    "                return\n",
    "                #print(f'test.in: {len(re.findall(test_pattern, mail_))}')\n",
    "            if re.findall(ya_pattern, mail_):\n",
    "                return\n",
    "                #print(f'ya.ru: {len(re.findall(ya_pattern, mail_))}')\n",
    "            if re.findall(mail_pattern, mail_):\n",
    "                return\n",
    "                #print(f'mail.ru: {len(re.findall(mail_pattern, mail_))}')\n",
    "                \n",
    "print(f'gmail.com: {len(re.findall(gmail_pattern, mail_))}')\n",
    "print(f'test.in: {len(re.findall(test_pattern, mail_))}')\n",
    "print(f'ya.ru: {len(re.findall(ya_pattern, mail_))}')\n",
    "print(f'mail.ru: {len(re.findall(mail_pattern, mail_))}')"
   ]
  },
  {
   "cell_type": "code",
   "execution_count": null,
   "metadata": {},
   "outputs": [],
   "source": []
  },
  {
   "cell_type": "code",
   "execution_count": 21,
   "metadata": {},
   "outputs": [
    {
     "name": "stdout",
     "output_type": "stream",
     "text": [
      "gmail.com: 2\n",
      "test.in: 1\n",
      "ya.ru: 2\n",
      "mail.ru: 1\n"
     ]
    }
   ],
   "source": [
    "gmail_pattern = r'\\w+@gmail.com'\n",
    "test_pattern = r'\\w+@test.in'\n",
    "ya_pattern = r'\\w+@ya.ru'\n",
    "mail_pattern = r'\\w+@mail.ru'\n",
    "\n",
    "def domain_distr(emails):\n",
    "        for mail_ in emails:\n",
    "            if re.findall(ya_pattern, mail_): \n",
    "                print(f'gmail.com: {len(re.findall(gmail_pattern, mail_))}')\n",
    "            if re.findall(test_pattern, mail_):\n",
    "                print(f'test.in: {len(re.findall(test_pattern, mail_))}')\n",
    "            if re.findall(ya_pattern, mail_):\n",
    "                print(f'ya.ru: {len(re.findall(ya_pattern, mail_))}')\n",
    "            if re.findall(mail_pattern, mail_):\n",
    "                print(f'mail.ru: {len(re.findall(mail_pattern, mail_))}')\n",
    "                \n",
    "domain_distr(['test@gmail.com, xyz@test.in, test@ya.ru, xyz@mail.ru, xyz@ya.ru, xyz@gmail.com'])\n",
    "                \n"
   ]
  },
  {
   "cell_type": "markdown",
   "metadata": {},
   "source": [
    "## Задание 5 (необязательное)\n",
    "\n",
    "Напишите функцию, которая будет подсчитывать сколько слов начинается на гласные, а сколько на согласные буквы в тексте (текст может быть написан как с использованием букв кириллицы, так и латиницы).\n",
    "\n",
    "Пример работы программы:  \n",
    "\n",
    "`some_text = 'Эталонной реализацией Python является интерпретатор CPython, поддерживающий большинство активно используемых платформ. Он распространяется под свободной лицензией Python Software Foundation License, позволяющей использовать его без ограничений в любых приложениях, включая проприетарные.'`\n",
    "\n",
    "Результат: \n",
    "```\n",
    "Слов на гласные буквы: 9\n",
    "Слов на согласные буквы: 21 \n",
    "```"
   ]
  },
  {
   "cell_type": "code",
   "execution_count": 31,
   "metadata": {},
   "outputs": [
    {
     "name": "stdout",
     "output_type": "stream",
     "text": [
      "Слов на гласные буквы: 9\n",
      "Слов на согласные буквы: 21\n"
     ]
    }
   ],
   "source": [
    "vowel = 0\n",
    "consonant = 0\n",
    "vowel_pattern = r'\\b[АОИЕЁЭЫУЮЯаоиеёэыуюяAEIOUYaeiouy]'\n",
    "consonant_pattern = r'\\b[БВГДЖЗЙКЛМНПРСТФХЦЧШЩбвгджзйклмнпрстфхцчшщBCDFGHJKLMNPQRSTVWXZbcdfghjklmnpqrstvwxz]'\n",
    "\n",
    "def count_letters(some_text):\n",
    "    if re.findall(vowel_pattern, some_text):\n",
    "        print(f'Слов на гласные буквы: {len(re.findall(vowel_pattern, some_text))}')\n",
    "    if re.findall(consonant_pattern, some_text):\n",
    "        print(f'Слов на согласные буквы: {len(re.findall(consonant_pattern, some_text))}')\n",
    "        \n",
    "count_letters('Эталонной реализацией Python является интерпретатор CPython, \\\n",
    "поддерживающий большинство активно используемых платформ. Он распространяется под свободной лицензией \\\n",
    "Python Software Foundation License, позволяющей использовать его без ограничений в любых приложениях, \\\n",
    "включая проприетарные.')\n"
   ]
  },
  {
   "cell_type": "code",
   "execution_count": null,
   "metadata": {},
   "outputs": [],
   "source": []
  },
  {
   "cell_type": "markdown",
   "metadata": {},
   "source": [
    "## Задание 6 (необязательное)\n",
    "Напишите функцию, которая будет проверять номер сотового телефона на валидность, если он валиден, то переводить его в формат:   \n",
    "+7-xxx-xxx-xx-xx  \n",
    "Постарайтесь предусмотреть как можно больше адекватных форматов изначального ввода номера.\n",
    "Примеры работы программы:  \n",
    "\n",
    "1. `phone = '+7 955 555-55-55'`\n",
    "\n",
    "Результат: \n",
    "`+7-950-555-55-55`\n",
    "\n",
    "2. `phone = '8(955)555-55-55'`\n",
    "\n",
    "Результат: \n",
    "`+7-950-555-55-55`\n",
    "\n",
    "3. `phone = '+7 955 555 55 55'`\n",
    "\n",
    "Результат: \n",
    "`+7-950-555-55-55`\n",
    "\n",
    "4. `phone = '7(955) 555-55-55'`\n",
    "\n",
    "Результат: \n",
    "`+7-950-555-55-55`\n",
    "\n",
    "5. `phone = '423-555-55-5555'`\n",
    "\n",
    "Результат: \n",
    "`Номер не валиден`\n",
    "\n",
    "6. `phone = '123-456-789'`\n",
    "\n",
    "Результат: \n",
    "`Номер не валиден`"
   ]
  },
  {
   "cell_type": "code",
   "execution_count": null,
   "metadata": {},
   "outputs": [],
   "source": []
  },
  {
   "cell_type": "code",
   "execution_count": null,
   "metadata": {},
   "outputs": [],
   "source": []
  },
  {
   "cell_type": "code",
   "execution_count": null,
   "metadata": {},
   "outputs": [],
   "source": []
  },
  {
   "cell_type": "code",
   "execution_count": null,
   "metadata": {},
   "outputs": [],
   "source": []
  },
  {
   "cell_type": "code",
   "execution_count": null,
   "metadata": {},
   "outputs": [],
   "source": []
  },
  {
   "cell_type": "markdown",
   "metadata": {},
   "source": [
    "#### ПРИМЕЧАНИЕ\n",
    "Домашнее задание сдается ссылкой на репозиторий [GitHub](https://github.com/).\n",
    "Не сможем проверить или помочь, если вы пришлете:\n",
    "- файлы;\n",
    "- архивы;\n",
    "- скриншоты кода.\n",
    "\n",
    "Все обсуждения и консультации по выполнению домашнего задания ведутся только на соответствующем канале в slack.\n",
    "\n",
    "##### Как правильно задавать вопросы аспирантам, преподавателям и коллегам\n",
    "Прежде чем задать вопрос, попробуйте найти ответ в интернете. Навык самостоятельного поиска информации — один из важнейших. Каждый практикующий специалист любого уровня делает это ежедневно.\n",
    "\n",
    "Сформулируйте вопрос по алгоритму:\n",
    "1) Что я делаю?  \n",
    "2) Какого результата я ожидаю?  \n",
    "3) Как фактический результат отличается от ожидаемого?  \n",
    "4) Что я уже попробовал сделать, чтобы исправить проблему?  \n",
    "\n",
    "По возможности прикрепите к вопросу скриншоты либо ссылки на код. Не выкладывайте все решение, оставляйте только проблемный и воспроизводимый участок кода."
   ]
  }
 ],
 "metadata": {
  "kernelspec": {
   "display_name": "Python 3",
   "language": "python",
   "name": "python3"
  },
  "language_info": {
   "codemirror_mode": {
    "name": "ipython",
    "version": 3
   },
   "file_extension": ".py",
   "mimetype": "text/x-python",
   "name": "python",
   "nbconvert_exporter": "python",
   "pygments_lexer": "ipython3",
   "version": "3.7.6"
  }
 },
 "nbformat": 4,
 "nbformat_minor": 2
}
